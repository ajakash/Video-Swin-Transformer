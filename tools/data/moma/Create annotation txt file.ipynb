{
 "cells": [
  {
   "cell_type": "markdown",
   "metadata": {
    "pycharm": {
     "name": "#%% md\n"
    }
   },
   "source": [
    "# MOMA API Tutorial"
   ]
  },
  {
   "cell_type": "markdown",
   "metadata": {
    "pycharm": {
     "name": "#%% md\n"
    }
   },
   "source": [
    "Initialize the MOMA API."
   ]
  },
  {
   "cell_type": "code",
   "execution_count": 1,
   "metadata": {
    "pycharm": {
     "name": "#%%\n"
    }
   },
   "outputs": [
    {
     "name": "stderr",
     "output_type": "stream",
     "text": [
      "/localhome/aabdujyo/anaconda3/envs/moma/lib/python3.7/site-packages/tqdm/auto.py:22: TqdmWarning: IProgress not found. Please update jupyter and ipywidgets. See https://ipywidgets.readthedocs.io/en/stable/user_install.html\n",
      "  from .autonotebook import tqdm as notebook_tqdm\n"
     ]
    }
   ],
   "source": [
    "from momaapi import MOMA\n",
    "\n",
    "dir_moma = \"/localhome/aabdujyo/Downloads/MOMA-LRG\"  # replace with your dataset directory\n",
    "moma = MOMA(dir_moma)"
   ]
  },
  {
   "cell_type": "markdown",
   "metadata": {
    "pycharm": {
     "name": "#%% md\n"
    }
   },
   "source": [
    "### Video Activity Classification"
   ]
  },
  {
   "cell_type": "markdown",
   "metadata": {
    "pycharm": {
     "name": "#%% md\n"
    }
   },
   "source": [
    "A unique ID is assigned to each activity instance. The first step is to obtain all the activity IDs associated with a specific split."
   ]
  },
  {
   "cell_type": "code",
   "execution_count": 2,
   "metadata": {
    "pycharm": {
     "name": "#%%\n"
    }
   },
   "outputs": [
    {
     "name": "stdout",
     "output_type": "stream",
     "text": [
      "ids_act: len=904, head=['-49z-lj8eYQ', '-50j97YPM6I', '-8ulhNOuce8']\n"
     ]
    }
   ],
   "source": [
    "ids_act = moma.get_ids_act(split=\"train\")\n",
    "print(f\"ids_act: len={len(ids_act)}, head={ids_act[:3]}\")"
   ]
  },
  {
   "cell_type": "markdown",
   "metadata": {
    "pycharm": {
     "name": "#%% md\n"
    }
   },
   "source": [
    "Using activity IDs, we can locate associated video files."
   ]
  },
  {
   "cell_type": "code",
   "execution_count": 3,
   "metadata": {
    "pycharm": {
     "name": "#%%\n"
    }
   },
   "outputs": [
    {
     "name": "stdout",
     "output_type": "stream",
     "text": [
      "paths_act: len=904, head=['/localhome/aabdujyo/Downloads/MOMA-LRG/activity/-49z-lj8eYQ.mp4', '/localhome/aabdujyo/Downloads/MOMA-LRG/activity/-50j97YPM6I.mp4', '/localhome/aabdujyo/Downloads/MOMA-LRG/activity/-8ulhNOuce8.mp4']\n"
     ]
    }
   ],
   "source": [
    "paths_act = moma.get_paths(ids_act=ids_act)\n",
    "print(f\"paths_act: len={len(paths_act)}, head={paths_act[:3]}\")"
   ]
  },
  {
   "cell_type": "markdown",
   "metadata": {
    "pycharm": {
     "name": "#%% md\n"
    }
   },
   "source": [
    "Using activity IDs, we can also retrieve their full annotations, including their class IDs."
   ]
  },
  {
   "cell_type": "code",
   "execution_count": 9,
   "metadata": {
    "pycharm": {
     "name": "#%%\n"
    },
    "scrolled": true
   },
   "outputs": [
    {
     "name": "stdout",
     "output_type": "stream",
     "text": [
      "Act(id=-49z-lj8eYQ, cname=basketball game, time=[5.0, end=157.0), num_sacts=14\n",
      "cids_act: len=904, head=[2, 16, 19]\n",
      "moma.taxonomy['act']: len=20\n",
      "moma.taxonomy['sact']: len=91\n",
      "cnames_act: head=['basketball game', 'reception service', 'table tennis game']\n"
     ]
    }
   ],
   "source": [
    "anns_act = moma.get_anns_act(ids_act)\n",
    "cids_act = [ann_act.cid for ann_act in anns_act]\n",
    "cnames_act = [moma.taxonomy['act'][cid_act] for cid_act in cids_act]\n",
    "print(f\"cids_act: len={len(cids_act)}, head={cids_act[:3]}\")\n",
    "print(f\"moma.taxonomy['act']: len={len(moma.taxonomy['act'])}\")\n",
    "print(f\"moma.taxonomy['sact']: len={len(moma.taxonomy['sact'])}\")\n",
    "print(f\"cnames_act: head={cnames_act[:3]}\")"
   ]
  },
  {
   "cell_type": "raw",
   "metadata": {},
   "source": [
    "Create and save txt file in the format\n",
    "\n",
    "some/path/000.mp4 1\n",
    "some/path/001.mp4 1\n",
    "some/path/002.mp4 2\n",
    "some/path/003.mp4 2"
   ]
  },
  {
   "cell_type": "code",
   "execution_count": 14,
   "metadata": {},
   "outputs": [
    {
     "name": "stdout",
     "output_type": "stream",
     "text": [
      "ids_act: len=904, head=['-49z-lj8eYQ', '-50j97YPM6I', '-8ulhNOuce8']\n",
      "ids_act: len=282, head=['-hTTwSQPmMo', '-pmf8SgQfaA', '-qKjFko8ftc']\n",
      "ids_act: len=226, head=['-4D7j7A9qqM', '-9kDwdxVlEw', '0HxGaLh6YM4']\n"
     ]
    }
   ],
   "source": [
    "# Train set\n",
    "ids_act = moma.get_ids_act(split=\"train\")\n",
    "print(f\"ids_act: len={len(ids_act)}, head={ids_act[:3]}\")\n",
    "paths_act = moma.get_paths(ids_act=ids_act)\n",
    "anns_act = moma.get_anns_act(ids_act)\n",
    "cids_act = [ann_act.cid for ann_act in anns_act]\n",
    "with open('moma_activity_video_train_list.txt', 'w') as f:\n",
    "    for i in range(len(paths_act)):\n",
    "        f.write(f'{paths_act[i]} {cids_act[i]}\\n')\n",
    "\n",
    "# Test set\n",
    "ids_act = moma.get_ids_act(split=\"test\")\n",
    "print(f\"ids_act: len={len(ids_act)}, head={ids_act[:3]}\")\n",
    "paths_act = moma.get_paths(ids_act=ids_act)\n",
    "anns_act = moma.get_anns_act(ids_act)\n",
    "cids_act = [ann_act.cid for ann_act in anns_act]\n",
    "\n",
    "with open('moma_activity_video_test_list.txt', 'w') as f:\n",
    "    for i in range(len(paths_act)):\n",
    "        f.write(f'{paths_act[i]} {cids_act[i]}\\n')\n",
    "\n",
    "# Val set\n",
    "ids_act = moma.get_ids_act(split=\"val\")\n",
    "print(f\"ids_act: len={len(ids_act)}, head={ids_act[:3]}\")\n",
    "paths_act = moma.get_paths(ids_act=ids_act)\n",
    "anns_act = moma.get_anns_act(ids_act)\n",
    "cids_act = [ann_act.cid for ann_act in anns_act]\n",
    "\n",
    "with open('moma_activity_video_val_list.txt', 'w') as f:\n",
    "    for i in range(len(paths_act)):\n",
    "        f.write(f'{paths_act[i]} {cids_act[i]}\\n')\n"
   ]
  },
  {
   "cell_type": "markdown",
   "metadata": {
    "pycharm": {
     "name": "#%% md\n"
    }
   },
   "source": [
    "### Video Sub-activity Classification"
   ]
  },
  {
   "cell_type": "markdown",
   "metadata": {
    "pycharm": {
     "name": "#%% md\n"
    }
   },
   "source": [
    "The process of constructing a data module for video sub-activity classification is very similar to that of constructing a data module for video activity classification."
   ]
  },
  {
   "cell_type": "code",
   "execution_count": 15,
   "metadata": {
    "pycharm": {
     "name": "#%%\n"
    }
   },
   "outputs": [
    {
     "name": "stdout",
     "output_type": "stream",
     "text": [
      "ids_sact: head=['00010', '00011', '00012']\n",
      "paths_sact: head=['/localhome/aabdujyo/Downloads/MOMA-LRG/sub_activity/00010.mp4', '/localhome/aabdujyo/Downloads/MOMA-LRG/sub_activity/00011.mp4', '/localhome/aabdujyo/Downloads/MOMA-LRG/sub_activity/00012.mp4']\n",
      "cids_sact: head=[5, 5, 7]\n",
      "cnames_sact: head=['the adult is explaining to the child how to ride a bike', 'the adult is explaining to the child how to ride a bike', 'the adult is holding the child on the bike']\n"
     ]
    }
   ],
   "source": [
    "ids_sact = moma.get_ids_sact(split=\"train\")\n",
    "paths_sact = moma.get_paths(ids_sact=ids_sact)\n",
    "anns_sact = moma.get_anns_sact(ids_sact)\n",
    "cids_sact = [ann_sact.cid for ann_sact in anns_sact]\n",
    "cnames_sact = [moma.taxonomy['sact'][cid_sact] for cid_sact in cids_sact]\n",
    "print(f\"ids_sact: head={ids_sact[:3]}\")\n",
    "print(f\"paths_sact: head={paths_sact[:3]}\")\n",
    "print(f\"cids_sact: head={cids_sact[:3]}\")\n",
    "print(f\"cnames_sact: head={cnames_sact[:3]}\")"
   ]
  },
  {
   "cell_type": "markdown",
   "metadata": {
    "pycharm": {
     "name": "#%% md\n"
    }
   },
   "source": [
    "We can trace back the activity label of each sub-activity instance."
   ]
  },
  {
   "cell_type": "code",
   "execution_count": 16,
   "metadata": {
    "pycharm": {
     "name": "#%%\n"
    },
    "scrolled": true
   },
   "outputs": [
    {
     "name": "stdout",
     "output_type": "stream",
     "text": [
      "cids_act: head=[2, 16, 19]\n",
      "cnames_act: head=['basketball game', 'reception service', 'table tennis game']\n"
     ]
    }
   ],
   "source": [
    "ids_act = moma.get_ids_act(ids_sact=ids_sact)\n",
    "anns_act = moma.get_anns_act(ids_act)\n",
    "cids_act = [ann_act.cid for ann_act in anns_act]\n",
    "cnames_act = [moma.taxonomy['act'][cid_act] for cid_act in cids_act]\n",
    "print(f\"cids_act: head={cids_act[:3]}\")\n",
    "print(f\"cnames_act: head={cnames_act[:3]}\")"
   ]
  },
  {
   "cell_type": "raw",
   "metadata": {
    "pycharm": {
     "name": "#%%\n"
    }
   },
   "source": [
    "Create and save txt file in the format\n",
    "\n",
    "some/path/000.mp4 1\n",
    "some/path/001.mp4 1\n",
    "some/path/002.mp4 2\n",
    "some/path/003.mp4 2"
   ]
  },
  {
   "cell_type": "code",
   "execution_count": 20,
   "metadata": {},
   "outputs": [],
   "source": [
    "def create_ann_file(fname, split):\n",
    "    ids_sact = moma.get_ids_sact(split=split)\n",
    "    print(f\"ids_act: len={len(ids_sact)}, head={ids_sact[:3]}\")\n",
    "    paths_sact = moma.get_paths(ids_sact=ids_sact)\n",
    "    anns_sact = moma.get_anns_sact(ids_sact)\n",
    "    cids_sact = [ann_sact.cid for ann_sact in anns_sact]\n",
    "    with open(fname, 'w') as f:\n",
    "        for i in range(len(paths_sact)):\n",
    "            f.write(f'{paths_sact[i]} {cids_sact[i]}\\n')\n"
   ]
  },
  {
   "cell_type": "code",
   "execution_count": 21,
   "metadata": {},
   "outputs": [
    {
     "name": "stdout",
     "output_type": "stream",
     "text": [
      "ids_act: len=9999, head=['00010', '00011', '00012']\n",
      "ids_act: len=3186, head=['00000', '00001', '00002']\n",
      "ids_act: len=2657, head=['00048', '00049', '00050']\n"
     ]
    }
   ],
   "source": [
    "# Train set\n",
    "create_ann_file('moma_subactivity_video_train_list.txt', \"train\")\n",
    "# Test set\n",
    "create_ann_file('moma_subactivity_video_test_list.txt', \"test\")\n",
    "# Val set\n",
    "create_ann_file('moma_subactivity_video_val_list.txt', \"val\")\n"
   ]
  },
  {
   "cell_type": "code",
   "execution_count": null,
   "metadata": {},
   "outputs": [],
   "source": []
  }
 ],
 "metadata": {
  "kernelspec": {
   "display_name": "Python 3 (ipykernel)",
   "language": "python",
   "name": "python3"
  },
  "language_info": {
   "codemirror_mode": {
    "name": "ipython",
    "version": 3
   },
   "file_extension": ".py",
   "mimetype": "text/x-python",
   "name": "python",
   "nbconvert_exporter": "python",
   "pygments_lexer": "ipython3",
   "version": "3.7.16"
  }
 },
 "nbformat": 4,
 "nbformat_minor": 1
}
